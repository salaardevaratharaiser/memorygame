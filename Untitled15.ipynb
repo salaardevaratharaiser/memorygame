{
  "nbformat": 4,
  "nbformat_minor": 0,
  "metadata": {
    "colab": {
      "provenance": [],
      "authorship_tag": "ABX9TyPFBraHNC1PCn7r6bHcRoSr",
      "include_colab_link": true
    },
    "kernelspec": {
      "name": "python3",
      "display_name": "Python 3"
    },
    "language_info": {
      "name": "python"
    }
  },
  "cells": [
    {
      "cell_type": "markdown",
      "metadata": {
        "id": "view-in-github",
        "colab_type": "text"
      },
      "source": [
        "<a href=\"https://colab.research.google.com/github/salaardevaratharaiser/memorygame/blob/main/Untitled15.ipynb\" target=\"_parent\"><img src=\"https://colab.research.google.com/assets/colab-badge.svg\" alt=\"Open In Colab\"/></a>"
      ]
    },
    {
      "cell_type": "code",
      "execution_count": 6,
      "metadata": {
        "colab": {
          "base_uri": "https://localhost:8080/"
        },
        "id": "veIpsJCoCMQq",
        "outputId": "bceb834d-abde-408b-af7d-f3ab79b70911"
      },
      "outputs": [
        {
          "output_type": "stream",
          "name": "stdout",
          "text": [
            "Requirement already satisfied: gTTS in /usr/local/lib/python3.11/dist-packages (2.5.4)\n",
            "Requirement already satisfied: requests<3,>=2.27 in /usr/local/lib/python3.11/dist-packages (from gTTS) (2.32.3)\n",
            "Requirement already satisfied: click<8.2,>=7.1 in /usr/local/lib/python3.11/dist-packages (from gTTS) (8.1.8)\n",
            "Requirement already satisfied: charset-normalizer<4,>=2 in /usr/local/lib/python3.11/dist-packages (from requests<3,>=2.27->gTTS) (3.4.2)\n",
            "Requirement already satisfied: idna<4,>=2.5 in /usr/local/lib/python3.11/dist-packages (from requests<3,>=2.27->gTTS) (3.10)\n",
            "Requirement already satisfied: urllib3<3,>=1.21.1 in /usr/local/lib/python3.11/dist-packages (from requests<3,>=2.27->gTTS) (2.4.0)\n",
            "Requirement already satisfied: certifi>=2017.4.17 in /usr/local/lib/python3.11/dist-packages (from requests<3,>=2.27->gTTS) (2025.4.26)\n"
          ]
        }
      ],
      "source": [
        "!pip install gTTS"
      ]
    },
    {
      "cell_type": "code",
      "source": [
        "!pip install SpeechRecognition pydub"
      ],
      "metadata": {
        "colab": {
          "base_uri": "https://localhost:8080/"
        },
        "id": "woZFr_yICXaa",
        "outputId": "eb878bc6-8ba8-4ec8-e155-6b46402c6cc9"
      },
      "execution_count": 7,
      "outputs": [
        {
          "output_type": "stream",
          "name": "stdout",
          "text": [
            "Requirement already satisfied: SpeechRecognition in /usr/local/lib/python3.11/dist-packages (3.14.3)\n",
            "Requirement already satisfied: pydub in /usr/local/lib/python3.11/dist-packages (0.25.1)\n",
            "Requirement already satisfied: typing-extensions in /usr/local/lib/python3.11/dist-packages (from SpeechRecognition) (4.13.2)\n"
          ]
        }
      ]
    },
    {
      "cell_type": "code",
      "source": [
        "from pydub import AudioSegment\n",
        "mp3_file='/content/c1ec-41f1-4d4d-b286-ea496d633079.mp3'\n",
        "wav_file='/content/c1ec-41f1-4d4d-b286-ea496d633079.wav'\n",
        "Audio = AudioSegment.from_mp3(mp3_file)\n",
        "Audio.export(wav_file, format=\"wav\")"
      ],
      "metadata": {
        "colab": {
          "base_uri": "https://localhost:8080/"
        },
        "id": "YcxE5PbMCXXq",
        "outputId": "5419507b-cb90-4f46-92fe-2f3bdb00c72d"
      },
      "execution_count": 10,
      "outputs": [
        {
          "output_type": "execute_result",
          "data": {
            "text/plain": [
              "<_io.BufferedRandom name='/content/c1ec-41f1-4d4d-b286-ea496d633079.wav'>"
            ]
          },
          "metadata": {},
          "execution_count": 10
        }
      ]
    },
    {
      "cell_type": "code",
      "source": [
        "import speech_recognition as sr\n",
        "reco = sr.Recognizer()\n",
        "with sr.AudioFile('/content/c1ec-41f1-4d4d-b286-ea496d633079.wav') as source:\n",
        "    audio = reco.record(source)\n",
        "    text = reco.recognize_google(audio)\n",
        "    print(text)"
      ],
      "metadata": {
        "colab": {
          "base_uri": "https://localhost:8080/"
        },
        "id": "URxjmb9cCXUh",
        "outputId": "b9a6cafa-ccdc-4653-8e77-f51c0363ce50"
      },
      "execution_count": 12,
      "outputs": [
        {
          "output_type": "stream",
          "name": "stdout",
          "text": [
            "5 + 3 - 2\n"
          ]
        }
      ]
    },
    {
      "cell_type": "code",
      "source": [
        "import speech_recognition as sr\n",
        "from gtts import gTTS\n",
        "from IPython.display import Audio"
      ],
      "metadata": {
        "id": "6s4lM5yrCXR5"
      },
      "execution_count": 13,
      "outputs": []
    },
    {
      "cell_type": "code",
      "source": [
        "reco = sr.Recognizer()\n",
        "with sr.AudioFile('/content/c1ec-41f1-4d4d-b286-ea496d633079.wav') as source:\n",
        "  audio = reco.record(source)\n",
        "  text = reco.recognize_google(audio)\n",
        "  print(text)"
      ],
      "metadata": {
        "colab": {
          "base_uri": "https://localhost:8080/"
        },
        "id": "7UqWqNmPCXOS",
        "outputId": "9cb24b98-d494-430b-9875-478e3e1f9dfc"
      },
      "execution_count": 17,
      "outputs": [
        {
          "output_type": "stream",
          "name": "stdout",
          "text": [
            "5 + 3 - 2\n"
          ]
        }
      ]
    },
    {
      "cell_type": "code",
      "source": [
        "\n",
        "print(\"result:\", eval(text))\n"
      ],
      "metadata": {
        "colab": {
          "base_uri": "https://localhost:8080/"
        },
        "id": "JEyACbxGEbBK",
        "outputId": "d7c3cfec-1e19-4ee3-e517-d4cb6d12465e"
      },
      "execution_count": 18,
      "outputs": [
        {
          "output_type": "stream",
          "name": "stdout",
          "text": [
            "result: 6\n"
          ]
        }
      ]
    },
    {
      "cell_type": "code",
      "source": [
        "from gtts import gTTS\n",
        "from IPython.display import Audio as IPyAudio  # Rename to avoid conflict"
      ],
      "metadata": {
        "id": "Mg2uvBlHEa-C"
      },
      "execution_count": 22,
      "outputs": []
    },
    {
      "cell_type": "code",
      "source": [
        "tts = gTTS(text=str(eval(text)), lang='en')\n",
        "tts.save(\"result.mp3\")\n"
      ],
      "metadata": {
        "id": "27w7n_8HE7ay"
      },
      "execution_count": 23,
      "outputs": []
    },
    {
      "cell_type": "code",
      "source": [
        "original_audio = AudioSegment.from_mp3(\"result.mp3\")"
      ],
      "metadata": {
        "id": "YsgZ2T9rE7Wa"
      },
      "execution_count": 24,
      "outputs": []
    },
    {
      "cell_type": "code",
      "source": [
        "result_audio = AudioSegment.from_mp3(\"result.mp3\")"
      ],
      "metadata": {
        "id": "_WXQ4oh5Eayi"
      },
      "execution_count": 26,
      "outputs": []
    },
    {
      "cell_type": "code",
      "source": [
        "combined_audio = original_audio + result_audio # Add original audio and result audio"
      ],
      "metadata": {
        "id": "4ADfZ_w1FZuC"
      },
      "execution_count": 27,
      "outputs": []
    },
    {
      "cell_type": "code",
      "source": [
        "combined_audio.export(\"combined_audio.mp3\", format=\"mp3\")"
      ],
      "metadata": {
        "colab": {
          "base_uri": "https://localhost:8080/"
        },
        "id": "WffFllltFZrK",
        "outputId": "1d17840a-f460-4bc2-d80b-815bba8800a1"
      },
      "execution_count": 28,
      "outputs": [
        {
          "output_type": "execute_result",
          "data": {
            "text/plain": [
              "<_io.BufferedRandom name='combined_audio.mp3'>"
            ]
          },
          "metadata": {},
          "execution_count": 28
        }
      ]
    },
    {
      "cell_type": "code",
      "source": [
        "Audio(\"combined_audio.mp3\")"
      ],
      "metadata": {
        "colab": {
          "base_uri": "https://localhost:8080/",
          "height": 75
        },
        "id": "yge3ytaPFZoS",
        "outputId": "946c7d52-bf86-475e-f521-f8047eeae984"
      },
      "execution_count": 29,
      "outputs": [
        {
          "output_type": "execute_result",
          "data": {
            "text/plain": [
              "<IPython.lib.display.Audio object>"
            ],
            "text/html": [
              "\n",
              "                <audio  controls=\"controls\" >\n",
              "                    <source src=\"data:audio/mpeg;base64,SUQzBAAAAAAAI1RTU0UAAAAPAAADTGF2ZjU4Ljc2LjEwMAAAAAAAAAAAAAAA//OEwAAAAAAAAAAAAEluZm8AAAAPAAAAWgAAIoAACAsNEBMWGRseISEkJiksLzI0Nzo6PUBCRUhLTVBTU1ZZW15hZGZpbGxvcnR3en2AgoWFiIuNkJOWmZuenqGkpqmsr7K0t7e6vcDCxcjLzdDQ09bZ297h5Obp6ezv8vT3+v3/AAAAAExhdmM1OC4xMwAAAAAAAAAAAAAAACQCQAAAAAAAACKAG6oA3QAAAAAAAAAAAAAAAAAAAAAAAAAAAAAA//NExAAAAANIAAAAAOOPEYZvMPnw692o/HCD8N9P1P7/PkwRvgvR2ZfLJnwwyeTrbzOrbI7kw8s6c9J57sOtGGT4I/PMz9p0+GHnunz558v9fIoQtAAgAUCwKBkb1exn//NExFMAAANIAAAAAEKxODLQPXhAsL3DwsrIcnZO/kXrnk6QyKIYwANAa/EGECEd77EMu+WTyLEBCGeE0ykP/8/8QWT25J66ethNV97qO24TTaI5lZ4NAdZb3fjsQIXd//NExKYRWAHMAAhGme9ya++wenbf+9+iAAEIdiE7GXaH/5iHfLtMxDundSQO6lbR9ppqM0fGsZ99qzRi7DjE8VDH7GPZiseIy6thazyYECBFQ7IRl3N7kf2egD62a2Pl//NExLMfWx4cCIPMCMPrfYT91j2em7GS0HsQJp89O2hckXbUQKMZJv1igIMo9koxUIWFycjBNvztdum697ZcVvIw3OaUIgOBYjaCgGCSyd6BuawIMkbdKkjFisn1AxWC//NExIgh6xpMAGGS/ZE1//x3b3/r0xihxR8Vq3cQ9+GzL/7QCijXm3e8+e/DtDP7/yAtlH7+7p92iOZn3vWRHX2e2JjVzfjFnnuc632bMwxyjUW05CCDHJFMZoTIVjG5//NExFMfqxp0AFmZHQU94mMwQnZ0sULIHT5Qwal5GChMolJ5wcLQBB0JHLY8gSoCEBw8HASFB30tUR+uqG9F0yuzE71Xt50DuCDutJEuqrp+iSqSZG7LbOlpp0i0Ijy6//NExCcZ8yKMABDZxGxvZ7zBCBBEgdJBC8VRT6E4sSRp28pm/jtm8u3Evf9bdQec6RTd1dZYVG31h+kNSYLEJeWKm4eRCto1A3Q4EtfRoKq726l99c0OBeELfNkroWQt//NExBIWCx7DHlJEVe/+KQgd/pVG5TLmqnYVIxu0WYS7+pyu/VBk23Oh6f/V9O72Myq8g9al69f9LL85D3Iv9E7VuyJZk7MxbtZYVyBzpNGNDvMqcAh4h2ZZJJRCgZWG//NExAwUKNrTHGgSBgBIS0RORk+JBQiZ39MwidlopplxWLRaYz/rQyW11JIYlMBGH4RCYZQGHXNWm6FQIUBaNf+9U1l2mvFKlpF7vR6EKeAw9YCKqpl3fbexlAVAj+iP//NExA4R4YbzHjvEUiThD2NzJzMvk0/V6pYTc119VgQmpkBgyuRuAqemSRSFU0791X6nsWyQ5+nHygXXZuf/rq/9v//a6TVwiXnfa22TTBcPfJ45wWIKoFDYSfIqz6YY//NExBkRgTri/GpEdmV/a+zIM812Tfu4t6MGfRaQ6gmwifbzjBhW9z/VW/Imlv6dS9b//2fmA//KGHiWaf7pbI8MGouvHpkByKT0H/AptXvMKw/DovCZXytWLUORFjw4//NExCYSQPbi/GPENqFG/6EQaMl2kO7BlfBQMbW9/8wWW1rFaS+LIC3//9UkjZsvi6hYsULwvU7FdKYQCYxgHwUhhRKIBxB4CBjaaDUHBoJacSsjY89TPdqCH9C+mEA5//NExDAR0MrC8N6GTGdP/DgbV5BzuliS///rR/////g0d/Eq1YpnaP977vpiLahqADQlBoTrkZggw1YolOLyUtwCxRj1nXqCz2bqTN5UJyXUo/FAPRsx6gLJrzG9fMZJ//NExDsRkTsW+NJOwpj6VitYF3b5RELmlakYtLkmontBBS/JM01/6DmEyb6ZsQMMRnRifBq62hm79w8jqOvod6tfyeieEDK/0FarfVlHyrr8r/kc/nqflfksR///UOGq//NExEcRmPLuXhvWEo+YXJFdztwv4QRlPjhKbCkMk1d7UJAKJaiRgIa6iALsfLRqNauuK0G/+GXNcjLTE5AGgQMtUZRMtV1//R32f6f6P//soDSazEGQCYA+PlcCWZmI//NExFMRoNLuVgvSDu8OAfcSGh5dxRK6dgQxJss2TCiK4lYSa+kJXZ5TzMLI9tsUDPNM7jUxx8as2gHgmVoMt/xxVQBIvwrRXcAACkkBMl2I85VXYJsYyHL49YQwG8cX//NExF8R6O7BlHmSzC3tOWdnDEki0qXbPjvE7Wa5vRLlhKAsD1UudB2Tr/t4c+Szb//Vp7PUt0j6m////3RRmBaolyWwD7lJmeOlwN1r/BPA6p1cu/EtqgE2v2M3C7m3//NExGoSMSK9VgvMFP0mZmq7E/5XIjIhRgyJe1DNHEoosBvnvOhrxEVEQoXff6//2PAkcgA082A6tqB/umZks1jKaSSVNKEhmnHoBRZhxGNOWxJJI623Z+8eGvyN3pNY//NExHQR6R7VnnsGSiuBQESGFQKTbQUbEvItaVGhMLB2tZYGhdx3YDyppVeDSj15JZxgqW+mmhYKsEWLjS0YiQug7aQhpUoU/L1J1S52VAYOrzvzBcQsUhM/EiGlFQGH//NExH8XOR6dvsGGcOmgoThSfoBEk6JZir4SFLf9jtTZZAptxp3XVtFNwshqBuo1/9d+zSkI5FNfTA3GU779CvCvoFZS+bFdtWhr9JQB3pOCIC5ki8dcvc9v4xgdPCck//NExHUXYQJcLMBMlREwLFXEUlSQlKKm59rSU2WGtF4xLDisYl7LaRu6htv/+zq1qi/SWAh+mpL2Dog6hIGQso469t6kL7OvYGGP2/cTAQydjkjbQXGkiiRv1aP9v1t3//NExGoOiBJcVniGAP1UeeoamsBaSSTQX0LohIFyYkuf86hc6UxAq2owm2oyST80nI1MDAPAOXKH0E3n2gNLE9mrT8j7tVvVifW9ofv290MSiz400oB1GuNT/f2rDEEg//NExIIMoB5YFsGMAHXysz03by96wNtJZOU0dFrTx7DE8gFogig4InGcwQr17yz814nIEDwxBg5AVPJlP+JXeF8Tunu8SvOUWyFfznUMtHsNhmqX6iFCQuTt+7e3UGGK//NExKIRWLZssngSAIZO5t+oQyp+c7bkggjXbUgNidIUG7UJFwTRoycufYYbVIoKoJN+joVU5WtZq05hrTUJmdTeBnJrW1JFL/dG4NinQ/zs79F3lnrun4un/+4/Z9zd//NExK8fawqAAGDTbbTy7ds/9+ezUacnlb2ZAzBukye0ldHJq8WvL137vDX8/Ms4mPop43RWdwcm6SrXMoGZCzcJgQRQqVVmWoerWZPDFSx8Kgt51q+PYFm0rcbbREAH//NExIQeuyKMAFGfPIBf/+RBEpilATtLggWbGwpAXP8X/jS1hJqVrNYldJYiF4sQGAIiQmj2nk+p7U2whZGSOX+TWoi8pChAAjv//zoK//7/bo3E09LzjEDc8uw8mHod//NExFwXkya+XkBXdqJ0VYB7vtrbZOICpb+wFJUpR/VhaiFuiPrxTJq9ndmmVqPzhhzCe0M5SGVC1s7ZWyq6lT9aW72ZtWbdlQ+tmbv8yoSQK14X0/XS+v5XQmFVigHB//NExFAUWhLOXDpEWnNqg3/eGZb9bGCAv+tr2dAeJ3cOxiziWuEn1f8PEkVpf/KXdM312hs0YAR+gT0+f/yaaU9ORcj1ux5dYxg8CCYsMAlMws0SEbYEPII3/vT/7BRg//NExFEU4ULWfipMRhcs6oB///9f7YwQF/4SEAjAgoCNoZ+c6ELEO0pcas+6L6CWh5Ro+lHjrDYl/8qBShABfUGZnuSo6twcH3N3G32MSh3rtqZ/6XhdA0RIg39H+s/k//NExFASgTLWXipO5uEY/6GC4Asm4LxQv/ChNBYQlAc6DEcFr6uTQee5htlMJ//yI1lAc+Z/8/8PyJ+uu3/21P///7of//6LfggdMmF1g2/B4ZdtrGCCf7tBVxRmv//2//NExFkRmv7OXDhFr2AwkHtjnexTGXorlUjQk45+e3/oIHv43+Q43+iI5cJ2DtF4ncH0H3LT/yaW/+5ZNg0NqoLsPrrNbOEFBn6mAvEJ4F//PC7vxhWm/9SxIjWrh9Hj//NExGURCbbafgoEWhpzJ8VFgf/4waqE//M/699qJ/+hl01RkNfRu3//+dP+2vo92U5kG+XmloLft99ddMEBCPyShsgKJ9eNGCGFMB6kB0m54scwFXwldEiPKDyoCCsC//NExHMScwLKXDmKr8xn/92hEO/KyHB9zk+m83FBEaHkBG///9idCWtcKAODXbXfW2ThDww3oKsts4gdnLHcTjFjwmjZzqE2L799tZhcdhu0Egxbi3nf/5wbAI4hMGJR//NExHwSATLOXBIEXma9vgB/1WJuLDct/5J390KoGPkSdVB4mZdnbf/MiAIgX9JwMkKd7UXOrkPZcwd0Ln0kDcDUuvScLmTP8L/MxiwPlclhIIsQ9pIaNcHGy3/Z/7tX//NExIcSGUbKXDpEXrGUqLWAk4koiQVuW222WWSIsCoEJv5vnKCYtV/kkVJEH6fWnVRSQsBQliGAevRamqFIqN0j8KzLq8s9rgGLBJ0JC41gZStkBjRb/BpnK1e7z1FK//NExJER4R6vHimGTA3QTBciHtOp0dNSpGJjH0itus/hlVUEyl7rAI758JYvDBPEqQ6ROxEOEQiMNnqMFR87FtmocHaH/xKWf7MiSESQVGCVic9VEUQwFWRI03DmS5FX//NExJwSKUq2XkBHDnKHMblFBUHBEIQmCoLCVTB569D3tMMKIVEzyKwO11wy5Vd0XIbnoaVXnXoYkq1N7zyqbQ9LIG9paGniFRBRgL0THYvXNbwUOBUoFyU7KwnfqXh0//NExKYRiRJcMEiGAK0Lue1JVJBKp7fp6EpFFAFimJ2vVpfqit9UZ2G13W0kR2dVFpFukFqkCpsrKjBwV8Yl2HeFPZSpKV9M0/psrsRutIrbDYxd0RXVL39WLlKjrTJr//NExLIR4F40AMGMANx/29hklXRo33ue5ubL3jVvGvyo/X+7Vnqdz9/GNAWSqsyqJpE0Sg47FHmcom2twwjEYlhG8i9IxZAqSUJQ0kRAc6eQWEUqhEkmlCF0JsGWzcWz//NExL0OUD40LHiGBAsgHVjGVgou9pmoV3s6FPoKhXQw9L+k3PxLnf43DkHCB3MFuR6G8sVpdtc2pCj4OhsGzKl7V0IYK+k4g4G6/6fU/eOMZ5o9u3PwjqUa01E2dyxn//NExNYTeR4kAHjGAePaQn/FQBnt/9m6BlqdpWXqEakx0Lm5NqrlinQUkFs0wy5M4ZyOqGEvSEsiKV8uWaGUZtuOikcdkfMRp+ki+3ursKNXh8XSEasTazKxlAdv28vw//NExNsRII4YAIBEKO6ah+sZ2/3Lrtbeuh1VFmy+V09PXZIY3JEBFSUid5VhulWW3QjGGRuVnJrUXVXpdNVIvMSaAgdOLSEhgVSSDgWlVZBZ8bqWBWaJJI5YNWpap2Yi//NExOkTYQ4MAJhGBewmJLnm2MOUqguIHGZcJkyEERShlaFChzgEJXZmDNWZmMKsNmNQEZsMX8b19SY43sx0lX1WfdlJmY6U4f6lzL/UqqqQYU0Yb/gpwKbwJ//7NC/5//NExO4VSdYIAJjGFe2ILCFfkN/I43xt8XQXZUCZIxwKm5xN+voTvE4lfhaE56V+vwnPziV+FoTnop5PMqfDhb8TTrwum56FuyZpc4WnvC6O+zM0nDJ4GHXiD88GT4cm//NExOsTSTIMAMBGMG0IMjwOvPEZ8adPwgoQEM8ABAMhOh3JZNw/DbXIw7AxMgLXhAsB7gsLMyCyZ5O2iCd2DhdEIigTJChCCb/CCBAgh5z9IMnPUyeDEygoYzwRo1CT//NExPAWOdHsAMJGDSHrP6UYXFc5xI32j2Dkbp+0coXT8IyeoQ1SWUoqK5Onc57D0gQTm3vmjfl7BdudZ+vPzKAgKGPSCL1MmjYz/VGPcJzbUY9tzpqpBATsxhspS0xM//NExOoUGf3IIghGBWxfOX0OImULfT9C7JvvA59GRnCAkkwnUIec4z3w/XXYEe0xtQt01L2vsG+jlC5rm7opFKC9EhG3y7bcGC5IXbUQIEEJN3WKAEZRvkoxSkLC4nEY//NExOwjcx4YMMGSeCbfnZG3RuuntkYbeIw3NdKFhcTkbRACBJaN6jc1hQyjbq0ELIyfUDGRNf/8d29/69MYocUfFat3EPfhsy/+0Aoo15t3vPnvw7Qz+/8gLZR+/u6f//NExLEhexZYFEjSlHaI5mfe9ZEdfZ7YmNXN+MWee5zrfZszDHKNRbTkIIMckUxmhMhWMbkFPeJjMEJ2dLFCyB0+UMGpeRgoTKJSecHC0AQdCRy2PIEqAhAcPBwEhQd9//NExH4fqxp0AFmZHSoSRgYgv/d3sb/jpZ6mpJ+fbqZf7wOYYOd5hJnbfn03OTUOAI0ENMrrN5jE06S6EQ+N12d3ZuTblIIIKQPgpgg3tMpExSAQCBxZ5RCi1sROJweL//NExFIfCyKEyBmf5AwDJrBUxio09PFLuLNZgPxjfqxVrhKnQTRefoyKgywOJd4SNGPAVhpq+lWjb+odkcbZAgTCP//8ZK6FkLe/+KQgd/pUVuKZc7tvGvBjdosUJd6a//NExCgbWx6mfkiTPZymfnMMmz3Oh6dv6vRH3NIZlV5B61Khirdy13aRFYK6c5D3Is3eiMzMwN3Ii3ZMJVDGXMoYtui4ZsFXigbRrUimHGtX2KpgCIiXd2ttvmQ7+UEF//NExA0VAbLfHDpEWktBbF28SAQLM/+zBM7LRTOjYXFotCG4YjCnSEM7JU19jMz/IUSpHsRm7Oudn22MdyQgLKGmvtephrLtNeKVCpYX/+hCnlwcYAmIh2VrbpQgwF/n//NExAwR8YbfHCvGUpjrBNv46G6lRn6vVMFSa7XbgQns7aaF+A1+HphKiu259ztn/XyXWEHfvPx7qBbV2Jc49/r7nf2//9robmCJid9rtbIAwVN8nkuG6EsDymDRm5E7//NExBcSiTrm/mrEcsMOHU+U95RXJyi9S/Rgw6EIDgodQjNCGv/nGDCt7n+qt+RNLe3Lk2Cw0WaPf///QH/6jFVXdVjaVyNuTBRtLToROOQZsU8/WYeFQmXserj1Rag4//NExB8RoMbW/DMEGlY8OKMb/oRBkMfD4CV8FAx/f38MFltPsV+1AWTs/t/ijySK2KQw4aV5iGfW2S0SCn8ulUACwyKbx4EYYIOiIWMDADCBg1qmPKQaQtPxkmg89TPd//NExCsQ8Mr2+N5GarBBroI54QXOdf/DgbV0kBrrZMEkl3//9aGKZ2j/e+76Yi2oagA0JQaE65GYIMNWKJTi8lLcAsUY9Z16gs9m6kzeVCcl1KPxQD0bMeoCya8xvXzG//NExDoRkTsW+NJOwkmY+lYrWBd2+URC5pWpGLS5JqJ7QQUvyTNNf+g5hMm+mbEDDEZ0YnwautoZu/cPI6jr6HerX8nonhAyv9BWq31ZR8q6/K/5HP56n5X5LEf//1Dh//NExEYRmPLuXhvWEqqPmFyRXc7cL+EEZT44SmwpDJNXe1CQCiWokYCGuogC7Hy0ajWrritBv/hlzXIy0xOQBoEDLVGUTLVdf/0d9n+n+j//7KA0msxBkAmAPj5XAlmZ//NExFIRoNLuVgvSDojvDgH3EhoeXcUSunYEMSbLNkwoiuJWEmvpCV2eU8zCyPbbFAzzTO41McfGrNoB4JlaDLf8cVUASL8K0V3AAApJATJdiPOVV2CbGMhy+PWEMBvH//NExF4R6O7BlHmSzBct7TlnZwxJItKl2z47xO1mub0S5YSgLA9VLnQdk6/7eHPks2//1aez1LdI+pv///90UaBZC+RgXBkzPHS4G61x4BGwwUbDfPt4ltUAm1+xmWLh//NExGkSMSK9VgvMFFDb/pMzNV2J/yuRGRCjBkS9qGaOJRRYDfPedDXiIqIhQu+/1//seBI5ACKzYCiuoH+6ZsavWMohIjU0YL/NOFkAEWxxGNO1iVJHWdS5+8eOvtG7//NExHMSMR7E9hPGEik1gqwKAiQwpgozFhEbEvI5UasLB2tZYGhcyd2A8rV4NKCj3ki4ZYKia/ppiQqCrBFi40sqGIkLoO2kIaVKFPy9SdUudlQGDq878wXELFITPxIh//NExH0XiQ6ZvsGGcKUVAYfpoKE4Un6ARJOiWYq+EhS3/Y7U2WQKbcad11bRTcLIagbqNf/Xfs0pCORTX0wNxlO+/Qrwr6BWUvmxXbpoa/SUAd6TgiAuZIvHXL3Pb+MY//NExHEXYQJcLMBMlR08JyQRMCxVxFJUkJSipufa0lNlhrReMSw4rGJey2kbuobb//s6tdUv0lgIfpqS9g6IOoSBkLKOOvbepC+zr2Bhj9v3EwEMnY5I20FxpIokb9Wj//NExGYOiBJcVniGAP2/W3f9VHnlGprAWkkk0F9C6ISBcmJLn/OoXOlMQKtqMJtqMkk/NJyNTAwDwDlyh9BN59oDSxPZq0/I+7Vb1Yn1vaH79vdDEos+NNKAahrjU/39//NExH4MoB5YFsGMAKsMQSB18rM9N28vesDbSWTlNHRa08ewxPIBaIIoOCJxnMEK9e8s/NeJyBA8MQYOQFTyZT/iV3hfE7p7vErzlFshX851DLR7DYZql+ohQkLk7fu3//NExJ4RWLZssngSALdQYYqGTubfqEMqfnO25III121IDYnSFBu1CRcE0aMnLn2GG1SNCqCTfo6FVOVrWatOYa01CZnU3gZya1tSRS/3RuDYp0P87O/Rd5Z67p+Lp//u//NExKsfawqAAGDTbT9n3N208u3bP/fns1GnJ5W9mQMwbpMntJXRyavFry9d+7w1/PzLOJj6KeN0VncHJukq1zKBmQs3CYEEUKlVZlqHq1mTwxUsfCoLedavjmBZtK3G//NExIAeuyKMAFGfPNtEQAeAX//kQRKYpQE7S4IFmxsKQFz/F/40tYSalazWJXSWIheLEBgCIkJo9p5Pqe1NsIWRkjl/k1qIvKQoQAI7//86Cv/+/26NxNPS84xA3PLs//NExFgXkya+XkBXdjyYeh2idGqAe77a22TiAqW/sBSVKUf1YWohboj68UyavZ3Zplaj84YcwntDOUhlQtbO2VsqupU/Wlu9mbVm3ZUPrZm7/MqEkCteF9P10vr+V0Jh//NExEwUWhLOXDpEWlWKAcFzdYN/3hmW/WxggL/ra9nQHid3DsYs4lrhJ9X/DxJFaX/yl3TN9dobNGAEfoE9Pn/8mmlPTkXI9bseXWMYPAgmLDAJTMLNEhG2BDyCN/70//NExE0U4ULWfipMRv/sFGAXLOWAf///X+2MEBf+EhAIwIKAjaGfnOhCxDtKXGrPui+gloeUaPpR46w2Jf/KgUoQAX1BmZ7kqOrcHB9zdxt9jEod67amf+l4XQNESIN///NExEwSgTLWXipO5kf6z+ThGP+hguALJuC8UL/woTQWEJQHOgxHBa+rk0HnuYbZTCf/8iNZQHPmf/P/D8ifrrt/9tT///+6H//+i34IHTJhaoNvweGXbaxggn+7QVcU//NExFURmv7OXDhFr2a///ZgMJB7Y53sUxl6K5VI0JOOfnt/6CB7+N/kON/oiOXCdg7ReJ3B9B9y0/8mlv/uWTYNDdWC7D66zWzhBQZ+pgLxCeBf/zwu78YVpv/UsSI1//NExGERCbbafgoEWquH0eMacyfFRYH/+MGqhP/zP+vfaif/oZdNUZDX0bt///nT/tr6PdlOZBvl5pWC37ffXXTBAQj8kobICifXjRghhTAepAdJueLHMBV8JXRIjyg8//NExG8ScwLKXDmKr6gIKwLMZ//doRDvyshwfc5PpvNxQRGh5ARv///YnQlrXCgDg12131tk4Q8MN6CrLbOIHZyx3E4xY8Jo2c6hNi+/fbWYXHYbtBIMW4t53/+cGwCO//NExHgSATLOXBIEXiEwYlFmvb4Af9Vibiw3Lf+Sd/dCqBj5EmpQeJmXZ23/zIgCIF/ScDJCne1Fzq5D2XMHdC59JA3A1Lr0nC5kz/C/zMYsD5XJYSCLEPaSGjXBxst///NExIMSGUbKXDpEXtn/u1exlKi1gJOJKIkKbltttllkiLAqBCb+b5ygmLVf5JFSRB+n1p1UUkLAUJYhgHr0WpqhSKjdI/Csy6vLPa4BiwSdCQuNYGUrZAY0W/waZytX//NExI0R4R6vHimGTLvPUU0N0EwXIh7TqdHTUqRiYx9IrbrP4ZVVBMpe6wCO+fCWLwwTxKkOkTsRDhEIjDZ6jBUfOxbZqHB2h/8Sln+zIkhEkFRglYnPKhFEMBVkSNNw//NExJgSKUq2XkBHDuZLkVdyhzG5RQVBwRCEJgqCwlUweevQ97TDCiFRM8isDtdcMuVXdFyG56GlV516GJKtTe88qm0PSyBvaWhp4hoQUYC9Ex2L1zW8FDgVKBclOysJ//NExKIRiRJcMEiGAN+peHStC7ntSVSQSqe36ehKRRQBYpidr1aX6orfVGdhtd1tJEdnahaRbpBapAqbKyowcFfGJdh3hT2UqSlfTNP6bK7EbrSK2w2MXdEV1S9/Vi5S//NExK4R4F40AMGMAKOtMmvcf9vYZJV0aN97nubmy941bxr8qP1/u1Z6nc/fxjUFkqrMqiaRNEoOOxR5nKJtrcMIxGJYRvIvSMWQKklCUNJEQHOnkFhFKoRJJpQhdCbB//NExLkOUD40LHiGBJbNxbMLIB1YxlYKLvaZqFd7OhT1DAIDJGmBYIyjA/Oj6nsYOB8cXMlAOsQnmvOvJB1SCLnEtguoaITd5A87suyqBadPrqlLmUPJJqYclVioM4aE//NExNITeR4kAHjGAQHI/YPVBlqdpWXqEakx0Lm5NqrlinQUkFs0wy5M4ZyOqGEvSEsiKV8uWaGUZtuOikcdkfMRp+ki+3ursKNXh8XSEasTazKxlAdv28vw7pqH6xnb//NExNcRII4YAIBEKP3Lrtbeuh0qEqw/KwsmecJ3PBFESZEAkTvKsNxFCtatCEYgZBXKzk1dBLqr0jpqFIrDEsQ4hjT7mqFGudJlefroeWCK18r/2dYLb/1abbXQr753//NExOUQ0AYVQojGAOO+yn12niPcUXtYTbICSARjKE1kIpFKGVoULOcAlXjMx1mZjVfZugIx4OVPXDQdLREPKnSp20GQEDSxitqkbSoKgIOkw7iU8Cp1Qc9BHbgqImyx//NExPQVSdYIAJjGFeln4datwhlqTEFNRTMuMTAwqqqqqqqqqqqqqqqqqqqqqqqqqqqqqqqqqqqqqqqqqqqqqqqqqqqqqqqqqqqqqqqqqqqqqqqqqqqqqqqqqqqqqqqq//NExPEWAgoIAMGGAaqqqqqqqqqqqqqqqqqqqqqqqqqqqqqqqqqqqqqqqqqqqqqqqqqqqqqqqqqqqqqqqqqqqqqqqqqqqqqqqqqqqqqqqqqqqqqqqqqqqqqqqqqqqqqq//NExOwTYKnwAHpGDKqqqqqqqqqqqqqqqqqqqqqqqqqqqqqqqqqqqqqqqqqqqqqqqqqqqqqqqqqqqqqqqqqqqqqqqqqqqqqqqqqqqqqqqqqqqqqqqqqqqqqqqqqqqqqq\" type=\"audio/mpeg\" />\n",
              "                    Your browser does not support the audio element.\n",
              "                </audio>\n",
              "              "
            ]
          },
          "metadata": {},
          "execution_count": 29
        }
      ]
    }
  ]
}